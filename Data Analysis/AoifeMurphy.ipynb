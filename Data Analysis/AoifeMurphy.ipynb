{
 "cells": [
  {
   "cell_type": "code",
   "execution_count": 1,
   "id": "b0482446",
   "metadata": {},
   "outputs": [],
   "source": [
    "import csv\n",
    "import pandas as pd\n",
    "import numpy as np\n",
    "import seaborn as sns\n",
    "import matplotlib.pyplot as plt\n",
    "from scipy import stats"
   ]
  },
  {
   "cell_type": "code",
   "execution_count": 2,
   "id": "2887977b",
   "metadata": {},
   "outputs": [],
   "source": [
    "df = pd.read_csv('final_daft_listings.csv')"
   ]
  },
  {
   "cell_type": "code",
   "execution_count": 3,
   "id": "39e30b61",
   "metadata": {},
   "outputs": [
    {
     "data": {
      "text/html": [
       "<div>\n",
       "<style scoped>\n",
       "    .dataframe tbody tr th:only-of-type {\n",
       "        vertical-align: middle;\n",
       "    }\n",
       "\n",
       "    .dataframe tbody tr th {\n",
       "        vertical-align: top;\n",
       "    }\n",
       "\n",
       "    .dataframe thead th {\n",
       "        text-align: right;\n",
       "    }\n",
       "</style>\n",
       "<table border=\"1\" class=\"dataframe\">\n",
       "  <thead>\n",
       "    <tr style=\"text-align: right;\">\n",
       "      <th></th>\n",
       "      <th>Address</th>\n",
       "      <th>Room</th>\n",
       "      <th>Bath</th>\n",
       "      <th>Property_type</th>\n",
       "      <th>Bedrooms_available</th>\n",
       "      <th>Available_from</th>\n",
       "      <th>Available_for</th>\n",
       "      <th>Sharing_with</th>\n",
       "      <th>Owner_occupied</th>\n",
       "      <th>Preferences</th>\n",
       "      <th>Date_entered/renewed</th>\n",
       "      <th>Property_views</th>\n",
       "      <th>Latitude</th>\n",
       "      <th>Longitude</th>\n",
       "      <th>Pre_processed_desc</th>\n",
       "      <th>Desc_length</th>\n",
       "      <th>Price_per_month</th>\n",
       "      <th>County</th>\n",
       "      <th>adjective_counts</th>\n",
       "    </tr>\n",
       "  </thead>\n",
       "  <tbody>\n",
       "    <tr>\n",
       "      <th>0</th>\n",
       "      <td>Ballycasey Close, Shannon, Co. Clare</td>\n",
       "      <td>Single Room</td>\n",
       "      <td>Shared Bathroom</td>\n",
       "      <td>House</td>\n",
       "      <td>1</td>\n",
       "      <td>Immediately</td>\n",
       "      <td>6 Months</td>\n",
       "      <td>2</td>\n",
       "      <td>Yes</td>\n",
       "      <td>Male / Female</td>\n",
       "      <td>21/03/2023</td>\n",
       "      <td>899</td>\n",
       "      <td>NaN</td>\n",
       "      <td>NaN</td>\n",
       "      <td>hoste power agency provide affordable accommod...</td>\n",
       "      <td>551</td>\n",
       "      <td>640.0</td>\n",
       "      <td>Clare</td>\n",
       "      <td>8</td>\n",
       "    </tr>\n",
       "    <tr>\n",
       "      <th>1</th>\n",
       "      <td>63 Fernleigh Drive , Carpenterstown, Dublin 15</td>\n",
       "      <td>Double Room</td>\n",
       "      <td>Shared Bathroom</td>\n",
       "      <td>House</td>\n",
       "      <td>1</td>\n",
       "      <td>Immediately</td>\n",
       "      <td>1 Year</td>\n",
       "      <td>2</td>\n",
       "      <td>No</td>\n",
       "      <td>Female</td>\n",
       "      <td>10/04/2023</td>\n",
       "      <td>1,308</td>\n",
       "      <td>NaN</td>\n",
       "      <td>NaN</td>\n",
       "      <td>two double room available carpenterstown local...</td>\n",
       "      <td>784</td>\n",
       "      <td>800.0</td>\n",
       "      <td>Dublin 15</td>\n",
       "      <td>10</td>\n",
       "    </tr>\n",
       "    <tr>\n",
       "      <th>2</th>\n",
       "      <td>Beaufield Gardens, Maynooth, Co. Kildare</td>\n",
       "      <td>Double Room</td>\n",
       "      <td>Shared Bathroom</td>\n",
       "      <td>House</td>\n",
       "      <td>1</td>\n",
       "      <td>Immediately</td>\n",
       "      <td>1 Year +</td>\n",
       "      <td>4</td>\n",
       "      <td>No</td>\n",
       "      <td>Male / Female</td>\n",
       "      <td>13/04/2023</td>\n",
       "      <td>280</td>\n",
       "      <td>53.373441</td>\n",
       "      <td>-6.598454</td>\n",
       "      <td>just available room center maynooth centrally ...</td>\n",
       "      <td>364</td>\n",
       "      <td>520.0</td>\n",
       "      <td>Kildare</td>\n",
       "      <td>5</td>\n",
       "    </tr>\n",
       "    <tr>\n",
       "      <th>3</th>\n",
       "      <td>87 Old Willow Park, Athlone, Athlone, Co. West...</td>\n",
       "      <td>Single Room</td>\n",
       "      <td>Shared Bathroom</td>\n",
       "      <td>House</td>\n",
       "      <td>3</td>\n",
       "      <td>May 1st, 2023</td>\n",
       "      <td>3 Months</td>\n",
       "      <td>2</td>\n",
       "      <td>No</td>\n",
       "      <td>Female</td>\n",
       "      <td>13/04/2023</td>\n",
       "      <td>168</td>\n",
       "      <td>NaN</td>\n",
       "      <td>NaN</td>\n",
       "      <td>this fabulous newly refurbished property old w...</td>\n",
       "      <td>405</td>\n",
       "      <td>400.0</td>\n",
       "      <td>Westmeath</td>\n",
       "      <td>5</td>\n",
       "    </tr>\n",
       "    <tr>\n",
       "      <th>4</th>\n",
       "      <td>62 Lanesborough Mews, Dublin 11, Dublin 11</td>\n",
       "      <td>Double Room</td>\n",
       "      <td>Shared Bathroom</td>\n",
       "      <td>Apartment</td>\n",
       "      <td>1</td>\n",
       "      <td>Immediately</td>\n",
       "      <td>6 Months</td>\n",
       "      <td>2</td>\n",
       "      <td>No</td>\n",
       "      <td>Male / Female</td>\n",
       "      <td>12/04/2023</td>\n",
       "      <td>1,110</td>\n",
       "      <td>53.402606</td>\n",
       "      <td>-6.294961</td>\n",
       "      <td>this spaciouse double room 3 bed room apartmen...</td>\n",
       "      <td>438</td>\n",
       "      <td>950.0</td>\n",
       "      <td>Dublin 11</td>\n",
       "      <td>9</td>\n",
       "    </tr>\n",
       "    <tr>\n",
       "      <th>...</th>\n",
       "      <td>...</td>\n",
       "      <td>...</td>\n",
       "      <td>...</td>\n",
       "      <td>...</td>\n",
       "      <td>...</td>\n",
       "      <td>...</td>\n",
       "      <td>...</td>\n",
       "      <td>...</td>\n",
       "      <td>...</td>\n",
       "      <td>...</td>\n",
       "      <td>...</td>\n",
       "      <td>...</td>\n",
       "      <td>...</td>\n",
       "      <td>...</td>\n",
       "      <td>...</td>\n",
       "      <td>...</td>\n",
       "      <td>...</td>\n",
       "      <td>...</td>\n",
       "      <td>...</td>\n",
       "    </tr>\n",
       "    <tr>\n",
       "      <th>1724</th>\n",
       "      <td>Drumcow South, Arva, Co. Cavan</td>\n",
       "      <td>Double Room</td>\n",
       "      <td>Shared Bathroom</td>\n",
       "      <td>House</td>\n",
       "      <td>1</td>\n",
       "      <td>Immediately</td>\n",
       "      <td>6 Months</td>\n",
       "      <td>2</td>\n",
       "      <td>Yes</td>\n",
       "      <td>Male / Female</td>\n",
       "      <td>21/03/2023</td>\n",
       "      <td>178</td>\n",
       "      <td>NaN</td>\n",
       "      <td>NaN</td>\n",
       "      <td>hoste power agency provide affordable accommod...</td>\n",
       "      <td>550</td>\n",
       "      <td>560.0</td>\n",
       "      <td>Cavan</td>\n",
       "      <td>8</td>\n",
       "    </tr>\n",
       "    <tr>\n",
       "      <th>1725</th>\n",
       "      <td>Corkerstown, Shantonagh, Co. Monaghan</td>\n",
       "      <td>Double Room</td>\n",
       "      <td>En-suite</td>\n",
       "      <td>House</td>\n",
       "      <td>1</td>\n",
       "      <td>Immediately</td>\n",
       "      <td>6 Months</td>\n",
       "      <td>2</td>\n",
       "      <td>Yes</td>\n",
       "      <td>Male / Female</td>\n",
       "      <td>21/03/2023</td>\n",
       "      <td>0</td>\n",
       "      <td>NaN</td>\n",
       "      <td>NaN</td>\n",
       "      <td>hoste power agency provide affordable accommod...</td>\n",
       "      <td>550</td>\n",
       "      <td>560.0</td>\n",
       "      <td>Monaghan</td>\n",
       "      <td>8</td>\n",
       "    </tr>\n",
       "    <tr>\n",
       "      <th>1726</th>\n",
       "      <td>Griffin Rath Hall, Maynooth, Co. Kildare</td>\n",
       "      <td>Double Room</td>\n",
       "      <td>Shared Bathroom</td>\n",
       "      <td>Apartment</td>\n",
       "      <td>1</td>\n",
       "      <td>Apr 21st, 2023</td>\n",
       "      <td>1 Year</td>\n",
       "      <td>2</td>\n",
       "      <td>No</td>\n",
       "      <td>Female</td>\n",
       "      <td>12/04/2023</td>\n",
       "      <td>2,437</td>\n",
       "      <td>53.368671</td>\n",
       "      <td>-6.581904</td>\n",
       "      <td>1 double bedroom available 3 bed town house mo...</td>\n",
       "      <td>576</td>\n",
       "      <td>690.0</td>\n",
       "      <td>Kildare</td>\n",
       "      <td>16</td>\n",
       "    </tr>\n",
       "    <tr>\n",
       "      <th>1727</th>\n",
       "      <td>aston village, Drogheda, Co. Louth</td>\n",
       "      <td>Single &amp; Double Room</td>\n",
       "      <td>Shared Bathroom</td>\n",
       "      <td>House</td>\n",
       "      <td>2</td>\n",
       "      <td>Immediately</td>\n",
       "      <td>1 Year +</td>\n",
       "      <td>2</td>\n",
       "      <td>No</td>\n",
       "      <td>Male / Female / +1 Person</td>\n",
       "      <td>10/04/2023</td>\n",
       "      <td>1,738</td>\n",
       "      <td>53.731247</td>\n",
       "      <td>-6.329441</td>\n",
       "      <td>two bedroom available rent 4 bed 3 toilet spac...</td>\n",
       "      <td>812</td>\n",
       "      <td>500.0</td>\n",
       "      <td>Louth</td>\n",
       "      <td>4</td>\n",
       "    </tr>\n",
       "    <tr>\n",
       "      <th>1728</th>\n",
       "      <td>D18 X088, Shankill, Dublin 18</td>\n",
       "      <td>Double Room</td>\n",
       "      <td>En-suite</td>\n",
       "      <td>House</td>\n",
       "      <td>1</td>\n",
       "      <td>Immediately</td>\n",
       "      <td>1 Year</td>\n",
       "      <td>1</td>\n",
       "      <td>Yes</td>\n",
       "      <td>Male / Female</td>\n",
       "      <td>07/04/2023</td>\n",
       "      <td>435</td>\n",
       "      <td>NaN</td>\n",
       "      <td>NaN</td>\n",
       "      <td>email one double bed available share beautiful...</td>\n",
       "      <td>508</td>\n",
       "      <td>NaN</td>\n",
       "      <td>Dublin 18</td>\n",
       "      <td>15</td>\n",
       "    </tr>\n",
       "  </tbody>\n",
       "</table>\n",
       "<p>1729 rows × 19 columns</p>\n",
       "</div>"
      ],
      "text/plain": [
       "                                                Address                  Room  \\\n",
       "0                  Ballycasey Close, Shannon, Co. Clare           Single Room   \n",
       "1        63 Fernleigh Drive , Carpenterstown, Dublin 15           Double Room   \n",
       "2              Beaufield Gardens, Maynooth, Co. Kildare           Double Room   \n",
       "3     87 Old Willow Park, Athlone, Athlone, Co. West...           Single Room   \n",
       "4            62 Lanesborough Mews, Dublin 11, Dublin 11           Double Room   \n",
       "...                                                 ...                   ...   \n",
       "1724                     Drumcow South, Arva, Co. Cavan           Double Room   \n",
       "1725              Corkerstown, Shantonagh, Co. Monaghan           Double Room   \n",
       "1726           Griffin Rath Hall, Maynooth, Co. Kildare           Double Room   \n",
       "1727                 aston village, Drogheda, Co. Louth  Single & Double Room   \n",
       "1728                      D18 X088, Shankill, Dublin 18           Double Room   \n",
       "\n",
       "                 Bath Property_type  Bedrooms_available  Available_from  \\\n",
       "0     Shared Bathroom         House                   1     Immediately   \n",
       "1     Shared Bathroom         House                   1     Immediately   \n",
       "2     Shared Bathroom         House                   1     Immediately   \n",
       "3     Shared Bathroom         House                   3   May 1st, 2023   \n",
       "4     Shared Bathroom     Apartment                   1     Immediately   \n",
       "...               ...           ...                 ...             ...   \n",
       "1724  Shared Bathroom         House                   1     Immediately   \n",
       "1725         En-suite         House                   1     Immediately   \n",
       "1726  Shared Bathroom     Apartment                   1  Apr 21st, 2023   \n",
       "1727  Shared Bathroom         House                   2     Immediately   \n",
       "1728         En-suite         House                   1     Immediately   \n",
       "\n",
       "     Available_for  Sharing_with Owner_occupied                Preferences  \\\n",
       "0         6 Months             2            Yes              Male / Female   \n",
       "1           1 Year             2             No                     Female   \n",
       "2         1 Year +             4             No              Male / Female   \n",
       "3         3 Months             2             No                     Female   \n",
       "4         6 Months             2             No              Male / Female   \n",
       "...            ...           ...            ...                        ...   \n",
       "1724      6 Months             2            Yes              Male / Female   \n",
       "1725      6 Months             2            Yes              Male / Female   \n",
       "1726        1 Year             2             No                     Female   \n",
       "1727      1 Year +             2             No  Male / Female / +1 Person   \n",
       "1728        1 Year             1            Yes              Male / Female   \n",
       "\n",
       "     Date_entered/renewed Property_views   Latitude  Longitude  \\\n",
       "0              21/03/2023            899        NaN        NaN   \n",
       "1              10/04/2023          1,308        NaN        NaN   \n",
       "2              13/04/2023            280  53.373441  -6.598454   \n",
       "3              13/04/2023            168        NaN        NaN   \n",
       "4              12/04/2023          1,110  53.402606  -6.294961   \n",
       "...                   ...            ...        ...        ...   \n",
       "1724           21/03/2023            178        NaN        NaN   \n",
       "1725           21/03/2023              0        NaN        NaN   \n",
       "1726           12/04/2023          2,437  53.368671  -6.581904   \n",
       "1727           10/04/2023          1,738  53.731247  -6.329441   \n",
       "1728           07/04/2023            435        NaN        NaN   \n",
       "\n",
       "                                     Pre_processed_desc  Desc_length  \\\n",
       "0     hoste power agency provide affordable accommod...          551   \n",
       "1     two double room available carpenterstown local...          784   \n",
       "2     just available room center maynooth centrally ...          364   \n",
       "3     this fabulous newly refurbished property old w...          405   \n",
       "4     this spaciouse double room 3 bed room apartmen...          438   \n",
       "...                                                 ...          ...   \n",
       "1724  hoste power agency provide affordable accommod...          550   \n",
       "1725  hoste power agency provide affordable accommod...          550   \n",
       "1726  1 double bedroom available 3 bed town house mo...          576   \n",
       "1727  two bedroom available rent 4 bed 3 toilet spac...          812   \n",
       "1728  email one double bed available share beautiful...          508   \n",
       "\n",
       "      Price_per_month     County  adjective_counts  \n",
       "0               640.0      Clare                 8  \n",
       "1               800.0  Dublin 15                10  \n",
       "2               520.0    Kildare                 5  \n",
       "3               400.0  Westmeath                 5  \n",
       "4               950.0  Dublin 11                 9  \n",
       "...               ...        ...               ...  \n",
       "1724            560.0      Cavan                 8  \n",
       "1725            560.0   Monaghan                 8  \n",
       "1726            690.0    Kildare                16  \n",
       "1727            500.0      Louth                 4  \n",
       "1728              NaN  Dublin 18                15  \n",
       "\n",
       "[1729 rows x 19 columns]"
      ]
     },
     "execution_count": 3,
     "metadata": {},
     "output_type": "execute_result"
    }
   ],
   "source": [
    "df"
   ]
  },
  {
   "cell_type": "code",
   "execution_count": 4,
   "id": "81a49f13",
   "metadata": {
    "scrolled": true
   },
   "outputs": [
    {
     "name": "stdout",
     "output_type": "stream",
     "text": [
      "Address                    0\n",
      "Room                       0\n",
      "Bath                       0\n",
      "Property_type              0\n",
      "Bedrooms_available         0\n",
      "Available_from             0\n",
      "Available_for              0\n",
      "Sharing_with               0\n",
      "Owner_occupied             0\n",
      "Preferences                0\n",
      "Date_entered/renewed       0\n",
      "Property_views             0\n",
      "Latitude                1033\n",
      "Longitude               1033\n",
      "Pre_processed_desc         0\n",
      "Desc_length                0\n",
      "Price_per_month          211\n",
      "County                   152\n",
      "adjective_counts           0\n",
      "dtype: int64\n"
     ]
    }
   ],
   "source": [
    "print(df.isnull().sum())"
   ]
  },
  {
   "cell_type": "code",
   "execution_count": 5,
   "id": "e443cc0d",
   "metadata": {},
   "outputs": [
    {
     "data": {
      "image/png": "[encoded data removed]",
      "text/plain": [
       "<Figure size 640x480 with 1 Axes>"
      ]
     },
     "metadata": {},
     "output_type": "display_data"
    }
   ],
   "source": [
    "#create data\n",
    "column = np.array(['Address','Room','Bath','Latitude','Longitude','Price_per_month','County'])\n",
    "value = np.array([0,0,0,1033,1033,211,152])\n",
    "\n",
    "#define colours for each bar\n",
    "colors = np.array(['yellow','orange','maroon','pink','blue','lime','violet'])\n",
    "\n",
    "#create horizontal bar plot\n",
    "fig, ax = plt.subplots()\n",
    "ax.barh(column, value, color=colors)\n",
    "\n",
    "#set plot parameters\n",
    "ax.set_xlabel('value')\n",
    "ax.set_ylabel('Category')\n",
    "ax.set_title('Coloured Bar Graph')\n",
    "plt.show()"
   ]
  },
  {
   "cell_type": "code",
   "execution_count": 6,
   "id": "9fdc4188",
   "metadata": {},
   "outputs": [
    {
     "data": {
      "text/plain": [
       "(14.0, 0.0)"
      ]
     },
     "execution_count": 6,
     "metadata": {},
     "output_type": "execute_result"
    },
    {
     "data": {
      "image/png": "[encoded data removed]",
      "text/plain": [
       "<Figure size 1400x1400 with 2 Axes>"
      ]
     },
     "metadata": {},
     "output_type": "display_data"
    }
   ],
   "source": [
    "plt.figure(figsize=(14,14))\n",
    "ax=sns.heatmap(df.corr(), cmap='YlGnBu',annot=True, vmin=-1, vmax=1)\n",
    "ax.set_ylim(14,0)"
   ]
  },
  {
   "cell_type": "code",
   "execution_count": 9,
   "id": "e97fde36",
   "metadata": {},
   "outputs": [],
   "source": [
    "# we can remove the collums with missing data"
   ]
  },
  {
   "cell_type": "code",
   "execution_count": 10,
   "id": "4bead865",
   "metadata": {},
   "outputs": [],
   "source": [
    "df.dropna(subset=['Price_per_month'], inplace=True)"
   ]
  },
  {
   "cell_type": "code",
   "execution_count": 11,
   "id": "5e307300",
   "metadata": {},
   "outputs": [],
   "source": [
    "missing_values = df[df['Price_per_month'].isnull()].index.tolist()"
   ]
  },
  {
   "cell_type": "code",
   "execution_count": 12,
   "id": "217f2175",
   "metadata": {},
   "outputs": [
    {
     "data": {
      "text/plain": [
       "600.0     176\n",
       "800.0      96\n",
       "500.0      78\n",
       "700.0      72\n",
       "650.0      69\n",
       "         ... \n",
       "823.0       1\n",
       "433.0       1\n",
       "435.0       1\n",
       "1360.0      1\n",
       "611.0       1\n",
       "Name: Price_per_month, Length: 140, dtype: int64"
      ]
     },
     "execution_count": 12,
     "metadata": {},
     "output_type": "execute_result"
    }
   ],
   "source": [
    "df[\"Price_per_month\"].value_counts()"
   ]
  },
  {
   "cell_type": "code",
   "execution_count": 13,
   "id": "71759edc",
   "metadata": {
    "scrolled": true
   },
   "outputs": [
    {
     "name": "stdout",
     "output_type": "stream",
     "text": [
      "Address                   0\n",
      "Room                      0\n",
      "Bath                      0\n",
      "Property_type             0\n",
      "Bedrooms_available        0\n",
      "Available_from            0\n",
      "Available_for             0\n",
      "Sharing_with              0\n",
      "Owner_occupied            0\n",
      "Preferences               0\n",
      "Date_entered/renewed      0\n",
      "Property_views            0\n",
      "Latitude                899\n",
      "Longitude               899\n",
      "Pre_processed_desc        0\n",
      "Desc_length               0\n",
      "Price_per_month           0\n",
      "County                  123\n",
      "adjective_counts          0\n",
      "dtype: int64\n"
     ]
    }
   ],
   "source": [
    "print(df.isnull().sum())"
   ]
  },
  {
   "cell_type": "markdown",
   "id": "55b4f242-c92d-4987-aec3-075c5372bfe1",
   "metadata": {},
   "source": [
    "# Question: Most expensive rent "
   ]
  },
  {
   "cell_type": "code",
   "execution_count": 14,
   "id": "4589356e",
   "metadata": {},
   "outputs": [],
   "source": [
    "most_expensive_rent = df['Price_per_month'].max()"
   ]
  },
  {
   "cell_type": "code",
   "execution_count": 15,
   "id": "78d6d8bb",
   "metadata": {},
   "outputs": [
    {
     "name": "stdout",
     "output_type": "stream",
     "text": [
      "The most expensive rent is: 2880.0\n"
     ]
    }
   ],
   "source": [
    "print(\"The most expensive rent is:\", most_expensive_rent)"
   ]
  },
  {
   "cell_type": "code",
   "execution_count": 16,
   "id": "061e228a",
   "metadata": {},
   "outputs": [],
   "source": [
    "max_rent_index = df['Price_per_month'].idxmax()"
   ]
  },
  {
   "cell_type": "markdown",
   "id": "27f81aff-4b72-4c2b-aec1-51c1e22419e1",
   "metadata": {},
   "source": [
    "# Question 2: Corresponding address to the max rent"
   ]
  },
  {
   "cell_type": "code",
   "execution_count": 18,
   "id": "d12c04ea",
   "metadata": {},
   "outputs": [],
   "source": [
    "max_index = df['Price_per_month'].idxmax()\n",
    "most_expensive_address = df.loc[max_index, 'Address']"
   ]
  },
  {
   "cell_type": "code",
   "execution_count": 19,
   "id": "fc8c2141",
   "metadata": {},
   "outputs": [
    {
     "name": "stdout",
     "output_type": "stream",
     "text": [
      "The corresponding address is: OFF TANEY ROAD, Dundrum, Dublin 14\n"
     ]
    }
   ],
   "source": [
    "print(\"The corresponding address is:\", most_expensive_address)"
   ]
  }
 ],
 "metadata": {
  "kernelspec": {
   "display_name": "Python 3 (ipykernel)",
   "language": "python",
   "name": "python3"
  },
  "language_info": {
   "codemirror_mode": {
    "name": "ipython",
    "version": 3
   },
   "file_extension": ".py",
   "mimetype": "text/x-python",
   "name": "python",
   "nbconvert_exporter": "python",
   "pygments_lexer": "ipython3",
   "version": "3.9.7"
  }
 },
 "nbformat": 4,
 "nbformat_minor": 5
}

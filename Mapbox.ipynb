{
 "cells": [
  {
   "cell_type": "code",
   "execution_count": 1,
   "id": "8aa48e99-fd44-4c8a-8071-ca87ff746da9",
   "metadata": {},
   "outputs": [],
   "source": [
    "# load modules\n",
    "import pandas as pd\n",
    "import dash\n",
    "from dash import dcc\n",
    "from dash import html\n",
    "from dash.dependencies import Input, Output\n",
    "import plotly.graph_objs as go"
   ]
  },
  {
   "cell_type": "code",
   "execution_count": 2,
   "id": "7e5ae92d-bb81-415f-94c2-2d00cd0b57d3",
   "metadata": {},
   "outputs": [],
   "source": [
    "# personal mapbox token\n",
    "mapbox_access_token = \"pk.eyJ1IjoiaHl2aCIsImEiOiJja3RrNWlzcGgwMDQzMm5vODYwcHJvcmRlIn0.QIsGMFNngsjk4GZD_Nou8g\""
   ]
  },
  {
   "cell_type": "code",
   "execution_count": 3,
   "id": "7cdbdd33-714e-4bb1-951e-5ce64fbffe58",
   "metadata": {},
   "outputs": [],
   "source": [
    "df = pd.read_csv(\"final_daft_listings.csv\")"
   ]
  },
  {
   "cell_type": "code",
   "execution_count": 18,
   "id": "3825a60f-9887-42d9-8b2b-19da099875f1",
   "metadata": {},
   "outputs": [],
   "source": [
    "df2 = pd.read_csv(\"C:/Users/hyvhu/Desktop/Neuer Ordner/Planungsbueros_Deutschland.csv\")"
   ]
  },
  {
   "cell_type": "markdown",
   "id": "d6deec22-356c-4719-8d83-1fbecc3c50de",
   "metadata": {},
   "source": [
    "### Remove all listings without Latitude/Longitude"
   ]
  },
  {
   "cell_type": "code",
   "execution_count": 4,
   "id": "fddac90f-8c43-488c-93cd-9f7b3771ed1a",
   "metadata": {},
   "outputs": [
    {
     "data": {
      "text/plain": [
       "Longitude    1033\n",
       "Latitude     1033\n",
       "dtype: int64"
      ]
     },
     "execution_count": 4,
     "metadata": {},
     "output_type": "execute_result"
    }
   ],
   "source": [
    "df[[\"Longitude\", \"Latitude\"]].isnull().sum()"
   ]
  },
  {
   "cell_type": "code",
   "execution_count": 5,
   "id": "72ad1d04-afee-4fb8-8a58-2f9ef365fd0b",
   "metadata": {},
   "outputs": [
    {
     "data": {
      "text/plain": [
       "Index(['Address', 'Room', 'Bath', 'Property_type', 'Bedrooms_available',\n",
       "       'Available_from', 'Available_for', 'Sharing_with', 'Owner_occupied',\n",
       "       'Preferences', 'Date_entered/renewed', 'Property_views', 'Latitude',\n",
       "       'Longitude', 'Pre_processed_desc', 'Desc_length', 'Price_per_month',\n",
       "       'County', 'adjective_counts'],\n",
       "      dtype='object')"
      ]
     },
     "execution_count": 5,
     "metadata": {},
     "output_type": "execute_result"
    }
   ],
   "source": [
    "df.columns"
   ]
  },
  {
   "cell_type": "code",
   "execution_count": 6,
   "id": "2c1c8c28-182f-49d1-8c04-7e31abb7d08e",
   "metadata": {},
   "outputs": [],
   "source": [
    "df = df.dropna(subset = [\"Longitude\", \"Latitude\"]) # remove all listings that do not have Latitude or Longitude\n",
    "df = df.dropna(subset = [\"County\"]) # remove all listing that do not have a County (for checklist)\n",
    "\n",
    "# resetting indexes\n",
    "df = df.reset_index(drop=True)"
   ]
  },
  {
   "cell_type": "markdown",
   "id": "f8d85b03-8e70-4ae9-9140-1bc3012f303c",
   "metadata": {},
   "source": [
    "### creating a column that maps random colors to a room type"
   ]
  },
  {
   "cell_type": "code",
   "execution_count": 40,
   "id": "13e1cf0f-ad81-4dfb-8f0a-bd01cd19a76d",
   "metadata": {},
   "outputs": [],
   "source": [
    "import random\n"
   ]
  },
  {
   "cell_type": "code",
   "execution_count": 43,
   "id": "d42d4071-1f0e-455b-99b1-c61a5cc2ed59",
   "metadata": {},
   "outputs": [
    {
     "data": {
      "text/plain": [
       "['#5472C1']"
      ]
     },
     "execution_count": 43,
     "metadata": {},
     "output_type": "execute_result"
    }
   ],
   "source": [
    "hexadecimal"
   ]
  },
  {
   "cell_type": "code",
   "execution_count": 38,
   "id": "b791bb66-87c3-4f31-9577-03505f36468c",
   "metadata": {},
   "outputs": [
    {
     "data": {
      "text/plain": [
       "['Double Room',\n",
       " 'Single Room',\n",
       " 'Twin Room',\n",
       " 'Shared Room',\n",
       " 'Single & Double Room',\n",
       " 'Single & Twin Room',\n",
       " 'Single & Shared Room',\n",
       " 'Single, Double & Shared Room',\n",
       " 'Single, Double & Twin Room',\n",
       " 'Double & Shared Room',\n",
       " 'Double & Twin Room']"
      ]
     },
     "execution_count": 38,
     "metadata": {},
     "output_type": "execute_result"
    }
   ],
   "source": [
    "list(df[\"Room\"].unique())"
   ]
  },
  {
   "cell_type": "code",
   "execution_count": 52,
   "id": "5d32d53e-2593-446a-960c-6f22dc482280",
   "metadata": {},
   "outputs": [
    {
     "ename": "SyntaxError",
     "evalue": "invalid syntax (Temp/ipykernel_29308/1726519082.py, line 2)",
     "output_type": "error",
     "traceback": [
      "\u001b[1;36m  File \u001b[1;32m\"C:\\Users\\hyvhu\\AppData\\Local\\Temp/ipykernel_29308/1726519082.py\"\u001b[1;36m, line \u001b[1;32m2\u001b[0m\n\u001b[1;33m    for i in df[\"Room\"].unique():\u001b[0m\n\u001b[1;37m                                ^\u001b[0m\n\u001b[1;31mSyntaxError\u001b[0m\u001b[1;31m:\u001b[0m invalid syntax\n"
     ]
    }
   ],
   "source": [
    "color_palette = dict.fromkeys(list(df[\"Room\"].unique())\n",
    "                              \n",
    "for i in df[\"Room\"].unique():\n",
    "    hexadecimal = [\"#\"+''.join([random.choice('ABCDEF0123456789') for i in range(6)])]\n",
    "    color_palette[i].append(hexadecimal)\n",
    "    print(i)\n",
    "    "
   ]
  },
  {
   "cell_type": "code",
   "execution_count": null,
   "id": "5229c994-321a-48f8-b513-2e03ce687c23",
   "metadata": {},
   "outputs": [],
   "source": [
    "# color palette\n",
    "color_palette = {\"Double Room\":\"3C486B\", \"Single Room\": \"F9D949\", \"Twin Room\": \"F45050\", \"Shared Room\": \"FF6D60\", \"Single & Double Room\": "
   ]
  },
  {
   "cell_type": "code",
   "execution_count": 7,
   "id": "82a4e91e-b82e-4102-80b2-79d08ffe42fb",
   "metadata": {},
   "outputs": [],
   "source": [
    "### color based on room type \n",
    "df[\"color_room\"] = df[df[\"Room\"] == 3C486B"
   ]
  },
  {
   "cell_type": "code",
   "execution_count": 31,
   "id": "474ea846-77b2-4d16-82f3-7efbf7424c69",
   "metadata": {},
   "outputs": [],
   "source": [
    "app = dash.Dash(__name__)\n",
    "\n",
    "app.layout = html.Div([\n",
    "\n",
    "    html.Div([\n",
    "        html.Div([\n",
    "            # checklist Bundesländer\n",
    "            html.Label(children='Counties:'),\n",
    "            dcc.Checklist(id='sort_by_counties', options=[{\"label\": str(b), \"value\": b} for b in sorted(df[\"County\"].unique())],\n",
    "                          value = [b for b in sorted(df[\"County\"].unique())]),\n",
    "\n",
    "#             # Map-Legend\n",
    "#             html.Div([\n",
    "#                 html.Label(children = \"Legende: \", ),\n",
    "#                 html.Li(\"B2C\", className='circle', style={'background': '#2e86c1','color':'black',\n",
    "#                     'list-style':'none','text-indent': '17px'}),\n",
    "#                 html.Li(\"B2B\", className= \"circle\", style = {\"background\": \"#f39c12\", \"color\":\"black\", \"list-style\": \"none\", \"text-indent\": \"17px\"})\n",
    "#             ]),\n",
    "\n",
    "\n",
    "\n",
    "            # html.Br(),\n",
    "            # html.Label(['Website:']),\n",
    "            # html.Pre(id='web_link', children=[],\n",
    "            # style={'white-space': 'pre-wrap','word-break': 'break-all',\n",
    "            #      'border': '1px solid black','text-align': 'center',\n",
    "            #      'padding': '12px 12px 12px 12px', 'color':'blue',\n",
    "            #      'margin-top': '3px'}),\n",
    "        ]),\n",
    "\n",
    "        # map\n",
    "        html.Div([\n",
    "            dcc.Graph(id='graph', config={'displayModeBar': False, 'scrollZoom': True},\n",
    "                      style={'background': '#00FC87', 'padding-bottom': '2px', 'padding-left': '2px', 'height': '100vh'}\n",
    "                        )\n",
    "        ])\n",
    "    ])\n",
    "])\n",
    "\n",
    "# Output of Graph\n",
    "@app.callback(Output('graph', 'figure'),\n",
    "              Input('sort_by_counties', 'value'))\n",
    "\n",
    "def update_figure(chosen_county):\n",
    "    df_sub = df[(df['County'].isin(chosen_county))]\n",
    "\n",
    "    # #changes spring green for B2B to orange\n",
    "    # df_sub[\"color\"][df_sub[\"color\"] == \"#00CD66\"] = \"#f39c12\"\n",
    "    # df_sub[\"color\"][df_sub[\"color\"] == \"#7D26CD\"] = \"#2e86c1\"\n",
    "\n",
    "    #hovertext\n",
    "    #df_sub[\"Informationen\"][df_sub[\"Informationen\" == None]] = \"Keine Informationen vorhanden\"\n",
    "\n",
    "    # Create figure\n",
    "    locations = [go.Scattermapbox(\n",
    "        lon=df_sub[\"Longitude\"],\n",
    "        lat=df_sub[\"Latitude\"],\n",
    "        mode=\"markers\",\n",
    "        marker = {\"size\": 10},\n",
    "        unselected={\"marker\": {'opacity': 1}},\n",
    "        selected={'marker': {'opacity': 0.5, 'size': 40}},\n",
    "        hoverinfo=\"text\",\n",
    "        hovertext=df_sub[[\"Price_per_month\",'Room']],\n",
    "        # hoverlabel = {\"Property_type\"},\n",
    "    )]\n",
    "\n",
    "    # Return figure\n",
    "    return {\n",
    "        ## scattermapbox has two sections: \"data\" and \"layout\", the data section already contains the figure\n",
    "        'data': locations,\n",
    "        'layout': go.Layout(\n",
    "            #mapbox_style = \"white-bg\",\n",
    "            uirevision='foo',\n",
    "            # preserves state of figure/map after callback activated\n",
    "            clickmode= 'event+select',\n",
    "            hovermode='closest',\n",
    "            ## default = closest\n",
    "            hoverdistance=2,\n",
    "            title=dict(text=\"sharing properties on daft.ie\", font=dict(size=30)),\n",
    "            mapbox=dict(\n",
    "                accesstoken=mapbox_access_token,\n",
    "                bearing=0,\n",
    "                #style='carto-darkmatter',\n",
    "                style = \"basic\",\n",
    "                center = dict(\n",
    "                    lat = 53.350140,\n",
    "                    lon = -6.266155\n",
    "                ),\n",
    "            pitch=40,\n",
    "            zoom=11.5\n",
    "            ),\n",
    "        )\n",
    "    }"
   ]
  },
  {
   "cell_type": "code",
   "execution_count": 32,
   "id": "ae59c7a6-1f8c-4533-b438-c26e792fb8fa",
   "metadata": {},
   "outputs": [
    {
     "name": "stdout",
     "output_type": "stream",
     "text": [
      "Dash is running on http://127.0.0.1:8050/\n",
      "\n",
      " * Serving Flask app \"__main__\" (lazy loading)\n",
      " * Environment: production\n",
      "\u001b[31m   WARNING: This is a development server. Do not use it in a production deployment.\u001b[0m\n",
      "\u001b[2m   Use a production WSGI server instead.\u001b[0m\n",
      " * Debug mode: off\n"
     ]
    },
    {
     "name": "stderr",
     "output_type": "stream",
     "text": [
      " * Running on http://127.0.0.1:8050/ (Press CTRL+C to quit)\n",
      "127.0.0.1 - - [19/Apr/2023 17:34:31] \"GET / HTTP/1.1\" 200 -\n",
      "127.0.0.1 - - [19/Apr/2023 17:34:31] \"GET /_dash-layout HTTP/1.1\" 200 -\n",
      "127.0.0.1 - - [19/Apr/2023 17:34:31] \"GET /_dash-dependencies HTTP/1.1\" 200 -\n",
      "127.0.0.1 - - [19/Apr/2023 17:34:31] \"GET /_dash-component-suites/dash/dcc/async-graph.js HTTP/1.1\" 200 -\n",
      "127.0.0.1 - - [19/Apr/2023 17:34:31] \"GET /_dash-component-suites/dash/dcc/async-plotlyjs.js HTTP/1.1\" 200 -\n",
      "127.0.0.1 - - [19/Apr/2023 17:34:31] \"POST /_dash-update-component HTTP/1.1\" 200 -\n"
     ]
    }
   ],
   "source": [
    "# start map\n",
    "if __name__ == '__main__':\n",
    "    app.run_server(debug=False)"
   ]
  },
  {
   "cell_type": "code",
   "execution_count": 21,
   "id": "52fb9151-62e6-4e86-a0bf-7be329eafad0",
   "metadata": {},
   "outputs": [
    {
     "data": {
      "text/plain": [
       "['Antrim',\n",
       " 'Carlow',\n",
       " 'Cavan',\n",
       " 'Clare',\n",
       " 'Cork',\n",
       " 'Donegal',\n",
       " 'Down',\n",
       " 'Dublin 1',\n",
       " 'Dublin 10',\n",
       " 'Dublin 11',\n",
       " 'Dublin 12',\n",
       " 'Dublin 13',\n",
       " 'Dublin 14',\n",
       " 'Dublin 15',\n",
       " 'Dublin 16',\n",
       " 'Dublin 18',\n",
       " 'Dublin 2',\n",
       " 'Dublin 20',\n",
       " 'Dublin 22',\n",
       " 'Dublin 24',\n",
       " 'Dublin 3',\n",
       " 'Dublin 4',\n",
       " 'Dublin 5',\n",
       " 'Dublin 6',\n",
       " 'Dublin 7',\n",
       " 'Dublin 8',\n",
       " 'Dublin 9',\n",
       " 'Fermanagh',\n",
       " 'Galway',\n",
       " 'Kerry',\n",
       " 'Kildare',\n",
       " 'Kilkenny',\n",
       " 'Laois',\n",
       " 'Limerick',\n",
       " 'Longford',\n",
       " 'Louth',\n",
       " 'Mayo',\n",
       " 'Meath',\n",
       " 'Offaly',\n",
       " 'Roscommon',\n",
       " 'Sligo',\n",
       " 'Tipperary',\n",
       " 'Waterford',\n",
       " 'Westmeath',\n",
       " 'Wexford',\n",
       " 'Wicklow']"
      ]
     },
     "execution_count": 21,
     "metadata": {},
     "output_type": "execute_result"
    }
   ],
   "source": [
    "[b for b in sorted(df[\"County\"].unique())]"
   ]
  },
  {
   "cell_type": "code",
   "execution_count": null,
   "id": "9aaeee11-a7de-45c3-98a4-57f9372d675e",
   "metadata": {},
   "outputs": [],
   "source": []
  }
 ],
 "metadata": {
  "kernelspec": {
   "display_name": "Python 3 (ipykernel)",
   "language": "python",
   "name": "python3"
  },
  "language_info": {
   "codemirror_mode": {
    "name": "ipython",
    "version": 3
   },
   "file_extension": ".py",
   "mimetype": "text/x-python",
   "name": "python",
   "nbconvert_exporter": "python",
   "pygments_lexer": "ipython3",
   "version": "3.9.7"
  }
 },
 "nbformat": 4,
 "nbformat_minor": 5
}

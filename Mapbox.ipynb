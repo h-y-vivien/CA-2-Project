{
 "cells": [
  {
   "cell_type": "code",
   "execution_count": 1,
   "id": "8aa48e99-fd44-4c8a-8071-ca87ff746da9",
   "metadata": {},
   "outputs": [],
   "source": [
    "# load modules\n",
    "import pandas as pd\n",
    "import dash\n",
    "from dash import dcc\n",
    "from dash import html\n",
    "from dash.dependencies import Input, Output\n",
    "import plotly.graph_objs as go"
   ]
  },
  {
   "cell_type": "code",
   "execution_count": 2,
   "id": "7e5ae92d-bb81-415f-94c2-2d00cd0b57d3",
   "metadata": {},
   "outputs": [],
   "source": [
    "# personal mapbox token\n",
    "mapbox_access_token = \"insert personal mapbox access token here\""
   ]
  },
  {
   "cell_type": "code",
   "execution_count": 3,
   "id": "7cdbdd33-714e-4bb1-951e-5ce64fbffe58",
   "metadata": {},
   "outputs": [],
   "source": [
    "df = pd.read_csv(\"final_daft_listings.csv\")"
   ]
  },
  {
   "cell_type": "markdown",
   "id": "d6deec22-356c-4719-8d83-1fbecc3c50de",
   "metadata": {},
   "source": [
    "### Remove all listings without Latitude/Longitude"
   ]
  },
  {
   "cell_type": "code",
   "execution_count": 4,
   "id": "fddac90f-8c43-488c-93cd-9f7b3771ed1a",
   "metadata": {},
   "outputs": [
    {
     "data": {
      "text/plain": [
       "Longitude    1033\n",
       "Latitude     1033\n",
       "dtype: int64"
      ]
     },
     "execution_count": 4,
     "metadata": {},
     "output_type": "execute_result"
    }
   ],
   "source": [
    "df[[\"Longitude\", \"Latitude\"]].isnull().sum()"
   ]
  },
  {
   "cell_type": "code",
   "execution_count": 5,
   "id": "72ad1d04-afee-4fb8-8a58-2f9ef365fd0b",
   "metadata": {},
   "outputs": [
    {
     "data": {
      "text/plain": [
       "Index(['Address', 'Room', 'Bath', 'Property_type', 'Bedrooms_available',\n",
       "       'Available_from', 'Available_for', 'Sharing_with', 'Owner_occupied',\n",
       "       'Preferences', 'Date_entered/renewed', 'Property_views', 'Latitude',\n",
       "       'Longitude', 'Pre_processed_desc', 'Desc_length', 'Price_per_month',\n",
       "       'County', 'adjective_counts'],\n",
       "      dtype='object')"
      ]
     },
     "execution_count": 5,
     "metadata": {},
     "output_type": "execute_result"
    }
   ],
   "source": [
    "df.columns"
   ]
  },
  {
   "cell_type": "code",
   "execution_count": 6,
   "id": "2c1c8c28-182f-49d1-8c04-7e31abb7d08e",
   "metadata": {},
   "outputs": [],
   "source": [
    "df = df.dropna(subset = [\"Longitude\", \"Latitude\"]) # remove all listings that do not have Latitude or Longitude\n",
    "df = df.dropna(subset = [\"County\"]) # remove all listing that do not have a County (for checklist)\n",
    "\n",
    "# resetting indexes\n",
    "df = df.reset_index(drop=True)"
   ]
  },
  {
   "cell_type": "markdown",
   "id": "f8d85b03-8e70-4ae9-9140-1bc3012f303c",
   "metadata": {},
   "source": [
    "### creating a column that maps random colors to a room type"
   ]
  },
  {
   "cell_type": "code",
   "execution_count": 7,
   "id": "13e1cf0f-ad81-4dfb-8f0a-bd01cd19a76d",
   "metadata": {},
   "outputs": [],
   "source": [
    "import random"
   ]
  },
  {
   "cell_type": "code",
   "execution_count": 8,
   "id": "b791bb66-87c3-4f31-9577-03505f36468c",
   "metadata": {},
   "outputs": [],
   "source": [
    "rooms = list(df[\"Room\"].unique()) # all room types\n",
    "\n",
    "color_palette = dict.fromkeys(rooms) # create dict with room types as keys"
   ]
  },
  {
   "cell_type": "code",
   "execution_count": 9,
   "id": "5d32d53e-2593-446a-960c-6f22dc482280",
   "metadata": {},
   "outputs": [],
   "source": [
    "# randomly assigns color hex code to each room type\n",
    "for i in rooms:\n",
    "    hexadecimal = [\"#\"+''.join([random.choice('ABCDEF0123456789') for i in range(6)])] # random hex code\n",
    "    color_palette.update({i:hexadecimal[0]}) # get the first item of the list"
   ]
  },
  {
   "cell_type": "code",
   "execution_count": 10,
   "id": "6f96a095-da8b-4f2b-8356-44f7977dbf33",
   "metadata": {},
   "outputs": [
    {
     "data": {
      "text/plain": [
       "{'Double Room': '#0C5CE0',\n",
       " 'Single Room': '#4AD58E',\n",
       " 'Twin Room': '#462902',\n",
       " 'Shared Room': '#6B4D73',\n",
       " 'Single & Double Room': '#58B6B2',\n",
       " 'Single & Twin Room': '#5741E8',\n",
       " 'Single & Shared Room': '#4E47D3',\n",
       " 'Single, Double & Shared Room': '#75EFAD',\n",
       " 'Single, Double & Twin Room': '#907A6E',\n",
       " 'Double & Shared Room': '#17A4B9',\n",
       " 'Double & Twin Room': '#21DEF0'}"
      ]
     },
     "execution_count": 10,
     "metadata": {},
     "output_type": "execute_result"
    }
   ],
   "source": [
    "color_palette # randomized color palette for each room type"
   ]
  },
  {
   "cell_type": "code",
   "execution_count": 11,
   "id": "7c8a9506-3ccd-4382-b9a1-bb778f34a2ed",
   "metadata": {},
   "outputs": [],
   "source": [
    "color_palette = {'Double Room': '#3A8655',  # setting color palette \n",
    " 'Single Room': '#ED1AF9',\n",
    " 'Twin Room': '#AE0C8E',\n",
    " 'Shared Room': '#D7582B',\n",
    " 'Single & Double Room': '#A56FC1',\n",
    " 'Single & Twin Room': '#3F3317',\n",
    " 'Single & Shared Room': '#949E99',\n",
    " 'Single, Double & Shared Room': '#B34DD2',\n",
    " 'Single, Double & Twin Room': '#999DF2',\n",
    " 'Double & Shared Room': '#5E261A',\n",
    " 'Double & Twin Room': '#A5A1A7'}"
   ]
  },
  {
   "cell_type": "code",
   "execution_count": 12,
   "id": "82a4e91e-b82e-4102-80b2-79d08ffe42fb",
   "metadata": {},
   "outputs": [],
   "source": [
    "# column with color hex code based on room type \n",
    "df[\"Color_room\"] = df[\"Room\"].map(color_palette)"
   ]
  },
  {
   "cell_type": "markdown",
   "id": "19d2c898-c34d-4dfa-b07c-6a8b81cb0d31",
   "metadata": {},
   "source": [
    "# Mapbox"
   ]
  },
  {
   "cell_type": "code",
   "execution_count": 13,
   "id": "474ea846-77b2-4d16-82f3-7efbf7424c69",
   "metadata": {},
   "outputs": [],
   "source": [
    "app = dash.Dash(__name__)\n",
    "\n",
    "app.layout = html.Div([\n",
    "\n",
    "\n",
    "    html.Div([\n",
    "        html.Div([\n",
    "            # checklist for Counties \n",
    "            html.Label(children='Counties:'),\n",
    "            dcc.Checklist(id='sort_by_counties', options=[{\"label\": str(b), \"value\": b} for b in sorted(df[\"County\"].unique())],\n",
    "                          value = [b for b in sorted(df[\"County\"].unique())], inline = True),\n",
    "            \n",
    "        # html.Div([\n",
    "        #     dcc.Dropdown(\n",
    "        #     id='sort_by_counties',\n",
    "        #     options=[{\"label\": str(b), \"value\": b} for b in sorted(df[\"County\"].unique())],\n",
    "        #     value = [b for b in sorted(df[\"County\"].unique())] ,style={'width': '50%', 'display': 'inline-block'}\n",
    "        #     ),\n",
    "\n",
    "            # Map Legend\n",
    "            html.Div([\n",
    "                html.Label(children = \"Legend: \", ), # title\n",
    "                \n",
    "                html.Li(\"Double Room\", className='circle', style={'background': color_palette[\"Double Room\"],'color':'white','list-style':'inside','text-indent': '30px'}),\n",
    "                html.Li(\"Single Room\", className= \"circle\", style = {\"background\": color_palette[\"Single Room\"], \"color\":\"white\", \"list-style\": \"inside\", \"text-indent\": \"30px\"}),\n",
    "                html.Li(\"Twin Room\", className = \"circle\", style = {\"background\": color_palette[\"Twin Room\"], \"color\": \"white\", \"list-style\": \"inside\", \"text-indent\":\"30px\"}),\n",
    "                html.Li(\"Shared Room\", className = \"circle\", style = {\"background\": color_palette[\"Shared Room\"], \"color\": \"white\", \"list-style\": \"inside\", \"text-indent\":\"30px\"}),\n",
    "                html.Li(\"Single & Double Room\", className = \"circle\", style = {\"background\": color_palette[\"Single & Double Room\"], \"color\": \"white\", \"list-style\": \"inside\", \"text-indent\":\"30px\"}),\n",
    "                html.Li(\"Single & Twin Room\", className = \"circle\", style = {\"background\": color_palette[\"Single & Twin Room\"], \"color\": \"white\", \"list-style\": \"inside\", \"text-indent\":\"30px\"}),\n",
    "                html.Li(\"Single & Shared Room\", className = \"circle\", style = {\"background\": color_palette[\"Single & Shared Room\"], \"color\": \"white\", \"list-style\": \"inside\", \"text-indent\":\"30px\"}),\n",
    "                html.Li(\"Single, Double & Shared Room\", className = \"circle\", style = {\"background\": color_palette[\"Single, Double & Shared Room\"], \"color\": \"white\", \"list-style\": \"inside\", \"text-indent\":\"30px\"}),\n",
    "                html.Li(\"Single, Double & Twin Room\", className = \"circle\", style = {\"background\": color_palette[\"Single, Double & Twin Room\"], \"color\": \"white\", \"list-style\": \"inside\", \"text-indent\":\"30px\"}),\n",
    "                html.Li(\"Double & Shared Room\", className = \"circle\", style = {\"background\": color_palette[\"Double & Shared Room\"], \"color\": \"white\", \"list-style\": \"inside\", \"text-indent\":\"30px\"}),\n",
    "                html.Li(\"Double & Twin Room\", className = \"circle\", style = {\"background\": color_palette[\"Double & Twin Room\"], \"color\": \"white\", \"list-style\": \"inside\", \"text-indent\":\"30px\"}),\n",
    "            ]),\n",
    "\n",
    "        ]),\n",
    "\n",
    "        # map\n",
    "        html.Div([\n",
    "            dcc.Graph(id='graph', config={'displayModeBar': False, 'scrollZoom': True},\n",
    "                      style={'background': '#00FC87', 'padding-bottom': '2px', 'padding-left': '2px', 'height': '100vh'}\n",
    "                        )\n",
    "        ])\n",
    "    ])\n",
    "                      \n",
    "])\n",
    "\n",
    "# Output of Graph\n",
    "@app.callback(Output('graph', 'figure'),\n",
    "              Input('sort_by_counties', 'value'))\n",
    "\n",
    "def update_figure(chosen_county):\n",
    "    \n",
    "    df_sub = df[(df['County'].isin(chosen_county))] # filter df by county\n",
    "\n",
    "    locations = [go.Scattermapbox(\n",
    "        lon= list(df_sub[\"Longitude\"]),\n",
    "        lat= list(df_sub[\"Latitude\"]),\n",
    "        mode=\"markers+text\",\n",
    "        marker = {\"size\": 10,'color' : df_sub['Color_room']},\n",
    "        unselected={\"marker\": {'opacity': 1}},\n",
    "        selected={'marker': {'opacity': 0.5, 'size': 40}},\n",
    "        textposition='top right',\n",
    "        hoverinfo=\"text\",\n",
    "        hovertext= # displays a text when the mouse is hovering over a marker\n",
    "            [\"<b>\" + str(df_sub[\"Address\"][i]) + \"</b>\" + \"<br>\" +\n",
    "            \"Monthly rent :\" + \" \" + str(df_sub['Price_per_month'][i]) + '<br>' +  \n",
    "            \"Bath : \" + \" \" + str(df_sub[\"Bath\"][i]) + \"<br>\" +\n",
    "            \"Property type : \" + \" \" + str(df_sub[\"Property_type\"][i]) + \"<br>\" +\n",
    "            \"Bedrooms available: \" + \" \" + str(df_sub[\"Bedrooms_available\"][i]) + \"<br>\" +\n",
    "            \"Available from: \" + \" \" + str(df_sub[\"Available_from\"][i]) + \"<br>\" +\n",
    "            \"Available for: \" + \" \" + str(df_sub[\"Available_for\"][i]) + \"<br>\" +\n",
    "            \"Sharing with: \" + \" \" + str(df_sub[\"Sharing_with\"][i]) + \"<br>\" +\n",
    "            \"Owner occupied: \" + \" \" + str(df_sub[\"Owner_occupied\"][i]) + \"<br>\" +\n",
    "            \"Preferences: \" + \" \" + str(df_sub[\"Preferences\"][i]) + \"<br>\" +\n",
    "            \"Date entered/renewed: \" + \" \" + str(df_sub[\"Date_entered/renewed\"][i]) + \"<br>\" +\n",
    "            \"Property views: \" + \" \" + str(df_sub[\"Property_views\"][i])\n",
    "            for i in range(df_sub.shape[0])],\n",
    "\n",
    "    )]\n",
    "\n",
    "    # Return figure\n",
    "    return {\n",
    "        ## scattermapbox has two sections: \"data\" and \"layout\", the data section already contains the figure\n",
    "        'data': locations,\n",
    "        'layout': go.Layout(\n",
    "            #mapbox_style = \"white-bg\",\n",
    "            uirevision='foo',\n",
    "            # preserves state of figure/map after callback activated\n",
    "            clickmode= 'event+select',\n",
    "            hovermode='closest',\n",
    "            ## default = closest\n",
    "            hoverdistance=2,\n",
    "            title=dict(text=\"Rooms on daft.ie\", font=dict(size=30)),\n",
    "            mapbox=dict(\n",
    "                accesstoken=mapbox_access_token,\n",
    "                bearing=0,\n",
    "                #style='carto-darkmatter',\n",
    "                style = \"basic\",\n",
    "                center = dict(\n",
    "                    lat = 53.350140,\n",
    "                    lon = -6.266155\n",
    "                ),\n",
    "            pitch=40,\n",
    "            zoom=11.5\n",
    "            ),\n",
    "        )\n",
    "    }"
   ]
  },
  {
   "cell_type": "code",
   "execution_count": 14,
   "id": "ae59c7a6-1f8c-4533-b438-c26e792fb8fa",
   "metadata": {},
   "outputs": [
    {
     "name": "stdout",
     "output_type": "stream",
     "text": [
      "Dash is running on http://127.0.0.1:8050/\n",
      "\n",
      " * Serving Flask app \"__main__\" (lazy loading)\n",
      " * Environment: production\n",
      "\u001b[31m   WARNING: This is a development server. Do not use it in a production deployment.\u001b[0m\n",
      "\u001b[2m   Use a production WSGI server instead.\u001b[0m\n",
      " * Debug mode: off\n"
     ]
    },
    {
     "name": "stderr",
     "output_type": "stream",
     "text": [
      " * Running on http://127.0.0.1:8050/ (Press CTRL+C to quit)\n",
      "127.0.0.1 - - [23/Apr/2023 17:07:08] \"GET / HTTP/1.1\" 200 -\n",
      "127.0.0.1 - - [23/Apr/2023 17:07:08] \"GET /_dash-layout HTTP/1.1\" 200 -\n",
      "127.0.0.1 - - [23/Apr/2023 17:07:08] \"GET /_dash-dependencies HTTP/1.1\" 200 -\n",
      "127.0.0.1 - - [23/Apr/2023 17:07:08] \"GET /_dash-component-suites/dash/dcc/async-graph.js HTTP/1.1\" 200 -\n",
      "127.0.0.1 - - [23/Apr/2023 17:07:08] \"GET /_dash-component-suites/dash/dcc/async-plotlyjs.js HTTP/1.1\" 200 -\n",
      "127.0.0.1 - - [23/Apr/2023 17:07:08] \"POST /_dash-update-component HTTP/1.1\" 200 -\n",
      "127.0.0.1 - - [23/Apr/2023 17:14:06] \"GET / HTTP/1.1\" 200 -\n",
      "127.0.0.1 - - [23/Apr/2023 17:14:07] \"GET /_dash-layout HTTP/1.1\" 200 -\n",
      "127.0.0.1 - - [23/Apr/2023 17:14:07] \"GET /_dash-dependencies HTTP/1.1\" 200 -\n",
      "127.0.0.1 - - [23/Apr/2023 17:14:07] \"GET /_dash-component-suites/dash/dcc/async-graph.js HTTP/1.1\" 200 -\n",
      "127.0.0.1 - - [23/Apr/2023 17:14:07] \"GET /_dash-component-suites/dash/dcc/async-plotlyjs.js HTTP/1.1\" 200 -\n",
      "127.0.0.1 - - [23/Apr/2023 17:14:07] \"POST /_dash-update-component HTTP/1.1\" 200 -\n",
      "127.0.0.1 - - [23/Apr/2023 18:25:59] \"GET / HTTP/1.1\" 200 -\n",
      "127.0.0.1 - - [23/Apr/2023 18:25:59] \"GET /_dash-layout HTTP/1.1\" 200 -\n",
      "127.0.0.1 - - [23/Apr/2023 18:25:59] \"GET /_dash-dependencies HTTP/1.1\" 200 -\n",
      "127.0.0.1 - - [23/Apr/2023 18:25:59] \"GET /_dash-component-suites/dash/dcc/async-graph.js HTTP/1.1\" 200 -\n",
      "127.0.0.1 - - [23/Apr/2023 18:25:59] \"GET /_dash-component-suites/dash/dcc/async-plotlyjs.js HTTP/1.1\" 200 -\n",
      "127.0.0.1 - - [23/Apr/2023 18:25:59] \"POST /_dash-update-component HTTP/1.1\" 200 -\n"
     ]
    }
   ],
   "source": [
    "# start map\n",
    "if __name__ == '__main__':\n",
    "    app.run_server(debug=False)"
   ]
  },
  {
   "cell_type": "markdown",
   "id": "0d4e7d9a-ba31-4170-b444-ec8898ac9a33",
   "metadata": {},
   "source": [
    "### Example of how the map looks like"
   ]
  },
  {
   "cell_type": "markdown",
   "id": "f2b782a5-f398-43aa-8ce1-eff725f89255",
   "metadata": {},
   "source": [
    "<img src=\"screenshots of mapbox/2.png\"></img>"
   ]
  },
  {
   "cell_type": "markdown",
   "id": "026b5e5d-d281-4a40-8712-4807757e7fe9",
   "metadata": {},
   "source": [
    "### Where are most room listings located ? "
   ]
  },
  {
   "cell_type": "markdown",
   "id": "35176dc9-b79f-47b1-b3d2-c58d6a0dd522",
   "metadata": {},
   "source": [
    "<img src=\"screenshots of mapbox/1.jpg\"></img>"
   ]
  },
  {
   "cell_type": "markdown",
   "id": "4a5c745f-ee33-445f-9ec7-4cd412638f0a",
   "metadata": {},
   "source": [
    "By looking at the map, we can see, that most room listings are concentracted in Dublin, Galway, Limerick and Cork. Some are in the heart of Waterford. All other room listings are mostly evenly scattered over Ireland."
   ]
  },
  {
   "cell_type": "markdown",
   "id": "9dee5b3f-a30d-4834-9879-af33b920bf64",
   "metadata": {},
   "source": [
    "### Which room type is more prevalent"
   ]
  },
  {
   "cell_type": "markdown",
   "id": "4c32e835-9389-4b7c-ad6b-9e710ab8a154",
   "metadata": {},
   "source": [
    "indicated by the green and magenta colored markers, Single Room are most advertised, followed by Double Rooms. "
   ]
  }
 ],
 "metadata": {
  "kernelspec": {
   "display_name": "Python 3 (ipykernel)",
   "language": "python",
   "name": "python3"
  },
  "language_info": {
   "codemirror_mode": {
    "name": "ipython",
    "version": 3
   },
   "file_extension": ".py",
   "mimetype": "text/x-python",
   "name": "python",
   "nbconvert_exporter": "python",
   "pygments_lexer": "ipython3",
   "version": "3.9.7"
  }
 },
 "nbformat": 4,
 "nbformat_minor": 5
}
